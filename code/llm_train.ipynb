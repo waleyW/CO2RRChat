{
 "cells": [
  {
   "cell_type": "markdown",
   "metadata": {},
   "source": [
    "## Note: The training process invokes the MS-SWIFT project.. Please git clone MS-SWIFT."
   ]
  },
  {
   "cell_type": "code",
   "execution_count": null,
   "metadata": {},
   "outputs": [],
   "source": [
    "swift sft \\\n",
    "    --model_type mistral-7b-instruct-v3 \\\n",
    "    --model_id_or_path /path/to/your/model/Mistral-7B-Instruct-v0.3 \\\n",
    "    --dataset /path/to/your/data/merged_metal_alloy.json \\\n",
    "    --num_train_epochs 3 \\\n",
    "    --sft_type lora \\\n",
    "    --output_dir /path/to/your/output/model \\\n",
    "    --eval_steps 50 \\\n",
    "    --max_length 32000"
   ]
  }
 ],
 "metadata": {
  "language_info": {
   "name": "python"
  }
 },
 "nbformat": 4,
 "nbformat_minor": 2
}
